{
 "cells": [
  {
   "cell_type": "code",
   "execution_count": 1,
   "metadata": {
    "execution": {
     "iopub.execute_input": "2021-12-26T04:59:25.156244Z",
     "iopub.status.busy": "2021-12-26T04:59:25.155662Z",
     "iopub.status.idle": "2021-12-26T04:59:25.876179Z",
     "shell.execute_reply": "2021-12-26T04:59:25.875427Z",
     "shell.execute_reply.started": "2021-12-26T04:59:25.156153Z"
    },
    "id": "rbob4a_BsdWZ",
    "outputId": "689a6c0c-d5a4-4174-f16c-4c9e8300916b"
   },
   "outputs": [
    {
     "name": "stdout",
     "output_type": "stream",
     "text": [
      "Sun Dec 26 04:59:25 2021       \n",
      "+-----------------------------------------------------------------------------+\n",
      "| NVIDIA-SMI 450.119.04   Driver Version: 450.119.04   CUDA Version: 11.0     |\n",
      "|-------------------------------+----------------------+----------------------+\n",
      "| GPU  Name        Persistence-M| Bus-Id        Disp.A | Volatile Uncorr. ECC |\n",
      "| Fan  Temp  Perf  Pwr:Usage/Cap|         Memory-Usage | GPU-Util  Compute M. |\n",
      "|                               |                      |               MIG M. |\n",
      "|===============================+======================+======================|\n",
      "|   0  Tesla P100-PCIE...  Off  | 00000000:00:04.0 Off |                    0 |\n",
      "| N/A   37C    P0    27W / 250W |      0MiB / 16280MiB |      0%      Default |\n",
      "|                               |                      |                  N/A |\n",
      "+-------------------------------+----------------------+----------------------+\n",
      "                                                                               \n",
      "+-----------------------------------------------------------------------------+\n",
      "| Processes:                                                                  |\n",
      "|  GPU   GI   CI        PID   Type   Process name                  GPU Memory |\n",
      "|        ID   ID                                                   Usage      |\n",
      "|=============================================================================|\n",
      "|  No running processes found                                                 |\n",
      "+-----------------------------------------------------------------------------+\n"
     ]
    }
   ],
   "source": [
    "!nvidia-smi"
   ]
  },
  {
   "cell_type": "code",
   "execution_count": 4,
   "metadata": {
    "execution": {
     "iopub.execute_input": "2021-12-26T05:00:21.072277Z",
     "iopub.status.busy": "2021-12-26T05:00:21.071687Z",
     "iopub.status.idle": "2021-12-26T05:00:28.641187Z",
     "shell.execute_reply": "2021-12-26T05:00:28.640327Z",
     "shell.execute_reply.started": "2021-12-26T05:00:21.072230Z"
    },
    "id": "apVWJ1aOvqlq",
    "outputId": "e3b58e61-bb16-4566-eab0-f36b69a185d7"
   },
   "outputs": [
    {
     "name": "stdout",
     "output_type": "stream",
     "text": [
      "Requirement already satisfied: torchmetrics in /opt/conda/lib/python3.7/site-packages (0.5.0)\n",
      "Requirement already satisfied: numpy>=1.17.2 in /opt/conda/lib/python3.7/site-packages (from torchmetrics) (1.19.5)\n",
      "Requirement already satisfied: torch>=1.3.1 in /opt/conda/lib/python3.7/site-packages (from torchmetrics) (1.9.1)\n",
      "Requirement already satisfied: packaging in /opt/conda/lib/python3.7/site-packages (from torchmetrics) (21.0)\n",
      "Requirement already satisfied: typing-extensions in /opt/conda/lib/python3.7/site-packages (from torch>=1.3.1->torchmetrics) (3.10.0.2)\n",
      "Requirement already satisfied: pyparsing>=2.0.2 in /opt/conda/lib/python3.7/site-packages (from packaging->torchmetrics) (3.0.6)\n",
      "\u001b[33mWARNING: Running pip as the 'root' user can result in broken permissions and conflicting behaviour with the system package manager. It is recommended to use a virtual environment instead: https://pip.pypa.io/warnings/venv\u001b[0m\n"
     ]
    }
   ],
   "source": [
    "import torch\n",
    "import torch.nn as nn\n",
    "import torch.optim as optim\n",
    "import torch.nn.functional as F\n",
    "import torch.backends.cudnn as cudnn\n",
    "\n",
    "!pip install torchmetrics\n",
    "import torchmetrics\n",
    "import torchvision\n",
    "import torchvision.transforms as transforms\n",
    "from torchvision.datasets import MNIST\n",
    "\n",
    "import os\n",
    "import io\n",
    "import cv2\n",
    "import numpy as np\n",
    "import pandas as pd\n",
    "import albumentations as A\n",
    "import csv\n",
    "import random\n",
    "import matplotlib.pyplot as plt"
   ]
  },
  {
   "cell_type": "code",
   "execution_count": 6,
   "metadata": {
    "execution": {
     "iopub.execute_input": "2021-12-26T05:00:36.663332Z",
     "iopub.status.busy": "2021-12-26T05:00:36.663065Z",
     "iopub.status.idle": "2021-12-26T05:00:36.667465Z",
     "shell.execute_reply": "2021-12-26T05:00:36.666427Z",
     "shell.execute_reply.started": "2021-12-26T05:00:36.663302Z"
    },
    "id": "F04BtM8Owo21"
   },
   "outputs": [],
   "source": [
    "device = 'cuda' if torch.cuda.is_available() else 'cpu'\n",
    "best_acc = 0  # best test accuracy\n",
    "start_epoch = 0  # start from epoch 0 or last checkpoint epoch"
   ]
  },
  {
   "cell_type": "code",
   "execution_count": 9,
   "metadata": {
    "execution": {
     "iopub.execute_input": "2021-12-26T05:01:16.593871Z",
     "iopub.status.busy": "2021-12-26T05:01:16.593506Z",
     "iopub.status.idle": "2021-12-26T05:01:16.603514Z",
     "shell.execute_reply": "2021-12-26T05:01:16.602387Z",
     "shell.execute_reply.started": "2021-12-26T05:01:16.593828Z"
    },
    "id": "2m9SV1pVff2w"
   },
   "outputs": [],
   "source": [
    "train_number = 50000\n",
    "val_number = 10000\n",
    "test_number = 10000\n",
    "#by set this param you can make your dataset bigger---------for no change in dataset size set it 1\n",
    "multiple_train_param = 5\n",
    "multiple_val_param = 5\n",
    "multiple_test_param = 5"
   ]
  },
  {
   "cell_type": "code",
   "execution_count": 8,
   "metadata": {
    "execution": {
     "iopub.execute_input": "2021-12-26T05:00:41.713908Z",
     "iopub.status.busy": "2021-12-26T05:00:41.713640Z",
     "iopub.status.idle": "2021-12-26T05:00:43.657821Z",
     "shell.execute_reply": "2021-12-26T05:00:43.656973Z",
     "shell.execute_reply.started": "2021-12-26T05:00:41.713880Z"
    },
    "id": "PhHcSamjwdMS"
   },
   "outputs": [
    {
     "name": "stdout",
     "output_type": "stream",
     "text": [
      "Downloading http://yann.lecun.com/exdb/mnist/train-images-idx3-ubyte.gz\n",
      "Downloading http://yann.lecun.com/exdb/mnist/train-images-idx3-ubyte.gz to ./data/MNIST/raw/train-images-idx3-ubyte.gz\n"
     ]
    },
    {
     "data": {
      "application/vnd.jupyter.widget-view+json": {
       "model_id": "9603a3d60b10448f814b0b32e9b22077",
       "version_major": 2,
       "version_minor": 0
      },
      "text/plain": [
       "  0%|          | 0/9912422 [00:00<?, ?it/s]"
      ]
     },
     "metadata": {},
     "output_type": "display_data"
    },
    {
     "name": "stdout",
     "output_type": "stream",
     "text": [
      "Extracting ./data/MNIST/raw/train-images-idx3-ubyte.gz to ./data/MNIST/raw\n",
      "\n",
      "Downloading http://yann.lecun.com/exdb/mnist/train-labels-idx1-ubyte.gz\n",
      "Downloading http://yann.lecun.com/exdb/mnist/train-labels-idx1-ubyte.gz to ./data/MNIST/raw/train-labels-idx1-ubyte.gz\n"
     ]
    },
    {
     "data": {
      "application/vnd.jupyter.widget-view+json": {
       "model_id": "a0970df3ca9b4ce8bd021b76a99b63d5",
       "version_major": 2,
       "version_minor": 0
      },
      "text/plain": [
       "  0%|          | 0/28881 [00:00<?, ?it/s]"
      ]
     },
     "metadata": {},
     "output_type": "display_data"
    },
    {
     "name": "stdout",
     "output_type": "stream",
     "text": [
      "Extracting ./data/MNIST/raw/train-labels-idx1-ubyte.gz to ./data/MNIST/raw\n",
      "\n",
      "Downloading http://yann.lecun.com/exdb/mnist/t10k-images-idx3-ubyte.gz\n",
      "Downloading http://yann.lecun.com/exdb/mnist/t10k-images-idx3-ubyte.gz to ./data/MNIST/raw/t10k-images-idx3-ubyte.gz\n"
     ]
    },
    {
     "data": {
      "application/vnd.jupyter.widget-view+json": {
       "model_id": "1dbce686877d444db15a9d28644a9e08",
       "version_major": 2,
       "version_minor": 0
      },
      "text/plain": [
       "  0%|          | 0/1648877 [00:00<?, ?it/s]"
      ]
     },
     "metadata": {},
     "output_type": "display_data"
    },
    {
     "name": "stdout",
     "output_type": "stream",
     "text": [
      "Extracting ./data/MNIST/raw/t10k-images-idx3-ubyte.gz to ./data/MNIST/raw\n",
      "\n",
      "Downloading http://yann.lecun.com/exdb/mnist/t10k-labels-idx1-ubyte.gz\n",
      "Downloading http://yann.lecun.com/exdb/mnist/t10k-labels-idx1-ubyte.gz to ./data/MNIST/raw/t10k-labels-idx1-ubyte.gz\n"
     ]
    },
    {
     "data": {
      "application/vnd.jupyter.widget-view+json": {
       "model_id": "965ffa4355c04cf98e08dd867c910f85",
       "version_major": 2,
       "version_minor": 0
      },
      "text/plain": [
       "  0%|          | 0/4542 [00:00<?, ?it/s]"
      ]
     },
     "metadata": {},
     "output_type": "display_data"
    },
    {
     "name": "stdout",
     "output_type": "stream",
     "text": [
      "Extracting ./data/MNIST/raw/t10k-labels-idx1-ubyte.gz to ./data/MNIST/raw\n",
      "\n"
     ]
    },
    {
     "name": "stderr",
     "output_type": "stream",
     "text": [
      "/opt/conda/lib/python3.7/site-packages/torchvision/datasets/mnist.py:498: UserWarning: The given NumPy array is not writeable, and PyTorch does not support non-writeable tensors. This means you can write to the underlying (supposedly non-writeable) NumPy array using the tensor. You may want to copy the array to protect its data or make it writeable before converting it to a tensor. This type of warning will be suppressed for the rest of this program. (Triggered internally at  /usr/local/src/pytorch/torch/csrc/utils/tensor_numpy.cpp:174.)\n",
      "  return torch.from_numpy(parsed.astype(m[2], copy=False)).view(*s)\n"
     ]
    }
   ],
   "source": [
    "transform = A.Compose([\n",
    "                      #  A.HorizontalFlip(p=0.9),\n",
    "                      #  A.ShiftScaleRotate(p=0.9),\n",
    "                       transforms.Normalize((0.4914, 0.4822, 0.4465), (0.2023, 0.1994, 0.2010)),\n",
    "                       transforms.ToTensor(),\n",
    "                      #  A.RandomBrightness(p=0.3),\n",
    "                       ])\n",
    "\n",
    "mnist = MNIST(root='./data', train=True, download=True, transform=transforms.ToTensor(),)\n",
    "\n",
    "mnist_train, mnist_val = torch.utils.data.random_split(mnist, [train_number, val_number])\n",
    "\n",
    "mnist_test = MNIST(root='./data', train=False, download=True, transform=transforms.ToTensor(),)\n"
   ]
  },
  {
   "cell_type": "code",
   "execution_count": 10,
   "metadata": {
    "execution": {
     "iopub.execute_input": "2021-12-26T05:01:21.946576Z",
     "iopub.status.busy": "2021-12-26T05:01:21.946317Z",
     "iopub.status.idle": "2021-12-26T05:01:21.958928Z",
     "shell.execute_reply": "2021-12-26T05:01:21.957688Z",
     "shell.execute_reply.started": "2021-12-26T05:01:21.946548Z"
    },
    "id": "kRLMo-RG2ojb",
    "outputId": "f88d0f90-b071-4445-be40-1fb39a6a944d"
   },
   "outputs": [
    {
     "data": {
      "text/plain": [
       "{'train': <torch.utils.data.dataloader.DataLoader at 0x7f252ce45e50>,\n",
       " 'val': <torch.utils.data.dataloader.DataLoader at 0x7f252ce45f90>,\n",
       " 'test': <torch.utils.data.dataloader.DataLoader at 0x7f2520bc3050>}"
      ]
     },
     "execution_count": 10,
     "metadata": {},
     "output_type": "execute_result"
    }
   ],
   "source": [
    "loaders1 = {\n",
    "    'train' : torch.utils.data.DataLoader(mnist_train, \n",
    "                                          batch_size=1, \n",
    "                                          shuffle=True, \n",
    "                                          num_workers=1),\n",
    "\n",
    "    'val' : torch.utils.data.DataLoader(mnist_val, \n",
    "                                          batch_size=1, \n",
    "                                          shuffle=True, \n",
    "                                          num_workers=1),       \n",
    "    \n",
    "    'test'  : torch.utils.data.DataLoader(mnist_test, \n",
    "                                          batch_size=1, \n",
    "                                          shuffle=True, \n",
    "                                          num_workers=1),\n",
    "}\n",
    "loaders1"
   ]
  },
  {
   "cell_type": "code",
   "execution_count": 11,
   "metadata": {
    "execution": {
     "iopub.execute_input": "2021-12-26T05:01:24.837730Z",
     "iopub.status.busy": "2021-12-26T05:01:24.837081Z",
     "iopub.status.idle": "2021-12-26T05:01:26.497113Z",
     "shell.execute_reply": "2021-12-26T05:01:26.496427Z",
     "shell.execute_reply.started": "2021-12-26T05:01:24.837694Z"
    },
    "id": "s2Yz_WHQyTbx"
   },
   "outputs": [
    {
     "data": {
      "image/png": "[encoded data removed]",
      "text/plain": [
       "<Figure size 432x288 with 1 Axes>"
      ]
     },
     "metadata": {
      "needs_background": "light"
     },
     "output_type": "display_data"
    },
    {
     "data": {
      "image/png": "[encoded data removed]",
      "text/plain": [
       "<Figure size 432x288 with 1 Axes>"
      ]
     },
     "metadata": {
      "needs_background": "light"
     },
     "output_type": "display_data"
    },
    {
     "data": {
      "image/png": "[encoded data removed]",
      "text/plain": [
       "<Figure size 432x288 with 1 Axes>"
      ]
     },
     "metadata": {
      "needs_background": "light"
     },
     "output_type": "display_data"
    },
    {
     "data": {
      "image/png": "[encoded data removed]",
      "text/plain": [
       "<Figure size 432x288 with 1 Axes>"
      ]
     },
     "metadata": {
      "needs_background": "light"
     },
     "output_type": "display_data"
    },
    {
     "data": {
      "image/png": "[encoded data removed]",
      "text/plain": [
       "<Figure size 432x288 with 1 Axes>"
      ]
     },
     "metadata": {
      "needs_background": "light"
     },
     "output_type": "display_data"
    },
    {
     "data": {
      "image/png": "[encoded data removed]",
      "text/plain": [
       "<Figure size 432x288 with 1 Axes>"
      ]
     },
     "metadata": {
      "needs_background": "light"
     },
     "output_type": "display_data"
    },
    {
     "data": {
      "image/png": "[encoded data removed]",
      "text/plain": [
       "<Figure size 432x288 with 1 Axes>"
      ]
     },
     "metadata": {
      "needs_background": "light"
     },
     "output_type": "display_data"
    },
    {
     "data": {
      "image/png": "[encoded data removed]",
      "text/plain": [
       "<Figure size 432x288 with 1 Axes>"
      ]
     },
     "metadata": {
      "needs_background": "light"
     },
     "output_type": "display_data"
    },
    {
     "data": {
      "image/png": "[encoded data removed]",
      "text/plain": [
       "<Figure size 432x288 with 1 Axes>"
      ]
     },
     "metadata": {
      "needs_background": "light"
     },
     "output_type": "display_data"
    },
    {
     "data": {
      "image/png": "[encoded data removed]",
      "text/plain": [
       "<Figure size 432x288 with 1 Axes>"
      ]
     },
     "metadata": {
      "needs_background": "light"
     },
     "output_type": "display_data"
    }
   ],
   "source": [
    "for i in range(10):\n",
    "  plt.imshow(mnist_test.data[i], cmap='gray')\n",
    "  plt.title(f\"{mnist_test.targets[i]}\")\n",
    "  plt.show()"
   ]
  },
  {
   "cell_type": "code",
   "execution_count": 12,
   "metadata": {
    "execution": {
     "iopub.execute_input": "2021-12-26T05:01:50.611164Z",
     "iopub.status.busy": "2021-12-26T05:01:50.610917Z",
     "iopub.status.idle": "2021-12-26T05:01:50.622546Z",
     "shell.execute_reply": "2021-12-26T05:01:50.621843Z",
     "shell.execute_reply.started": "2021-12-26T05:01:50.611137Z"
    },
    "id": "zQU8M3j5yr0V"
   },
   "outputs": [],
   "source": [
    "def dataset_process(train_val_test, writer1 , multiple_dataset_param=1):\n",
    "  os.makedirs(f\"mnist/{train_val_test}/GT\", exist_ok=True)\n",
    "  os.makedirs(f\"mnist/{train_val_test}/img\", exist_ok=True)\n",
    "\n",
    "  for batch_idx, (inputs, targets) in enumerate(loaders1[train_val_test]):\n",
    "\n",
    "    image = inputs[0].permute(1, 2, 0).numpy()\n",
    "    image_indx = multiple_dataset_param * batch_idx  \n",
    "\n",
    "    if batch_idx % 10000 == 0:\n",
    "        print(batch_idx)\n",
    "#         break\n",
    "    for index1 in range(multiple_dataset_param):\n",
    "      angle = random.randint(0, 360)\n",
    "      transform = A.Compose([\n",
    "                          A.ShiftScaleRotate(rotate_limit=[angle, angle], border_mode=cv2.BORDER_CONSTANT, p = 1),\n",
    "                            ])\n",
    "      transformed = transform(image=image)\n",
    "\n",
    "      image_loc = f\"mnist/{train_val_test}/GT/GT{image_indx+index1}.pt\"\n",
    "      GT_loc = f\"mnist/{train_val_test}/img/img{image_indx+index1}.pt\"\n",
    "      writer1.writerow([image_indx+index1, image_loc, GT_loc, targets[0].item(), angle])\n",
    "      torch.save(np.transpose(image, (2, 0, 1)), GT_loc)\n",
    "      torch.save(np.transpose(transformed['image'], (2, 0, 1)) , image_loc)"
   ]
  },
  {
   "cell_type": "code",
   "execution_count": null,
   "metadata": {
    "execution": {
     "iopub.execute_input": "2021-12-26T03:28:56.941861Z",
     "iopub.status.busy": "2021-12-26T03:28:56.941252Z",
     "iopub.status.idle": "2021-12-26T03:28:56.95218Z",
     "shell.execute_reply": "2021-12-26T03:28:56.95148Z",
     "shell.execute_reply.started": "2021-12-26T03:28:56.94181Z"
    },
    "id": "It_Y97q3lbtU"
   },
   "outputs": [],
   "source": [
    "# !rm -rf 'mnist'"
   ]
  },
  {
   "cell_type": "code",
   "execution_count": 13,
   "metadata": {
    "execution": {
     "iopub.execute_input": "2021-12-26T05:01:56.351365Z",
     "iopub.status.busy": "2021-12-26T05:01:56.351101Z",
     "iopub.status.idle": "2021-12-26T05:01:56.356231Z",
     "shell.execute_reply": "2021-12-26T05:01:56.355302Z",
     "shell.execute_reply.started": "2021-12-26T05:01:56.351337Z"
    },
    "id": "Bq4ec3ERgLhQ"
   },
   "outputs": [],
   "source": [
    "def dataset_maker(train_val_test, multiple_train_param):\n",
    "  f = open(f'./mnist_{train_val_test}.csv', 'w')\n",
    "  writer = csv.writer(f)\n",
    "  writer.writerow(['index', 'img_add', 'GT_add','class', 'angle'])\n",
    "  dataset_process(train_val_test,writer, multiple_train_param)\n",
    "  f.close()"
   ]
  },
  {
   "cell_type": "code",
   "execution_count": 14,
   "metadata": {
    "execution": {
     "iopub.execute_input": "2021-12-26T05:01:59.561389Z",
     "iopub.status.busy": "2021-12-26T05:01:59.560752Z",
     "iopub.status.idle": "2021-12-26T05:07:16.463309Z",
     "shell.execute_reply": "2021-12-26T05:07:16.462510Z",
     "shell.execute_reply.started": "2021-12-26T05:01:59.561342Z"
    },
    "id": "RgTzCHuyc0tX",
    "outputId": "34e12a0b-cf6b-4dee-c915-dcb916f08682"
   },
   "outputs": [
    {
     "name": "stdout",
     "output_type": "stream",
     "text": [
      "0\n",
      "10000\n",
      "20000\n",
      "30000\n",
      "40000\n",
      "0\n",
      "0\n"
     ]
    }
   ],
   "source": [
    "dataset_maker('train', multiple_train_param)\n",
    "dataset_maker('val', multiple_val_param)\n",
    "dataset_maker('test', multiple_test_param)\n"
   ]
  },
  {
   "cell_type": "code",
   "execution_count": 19,
   "metadata": {
    "execution": {
     "iopub.execute_input": "2021-12-26T05:08:51.747453Z",
     "iopub.status.busy": "2021-12-26T05:08:51.746703Z",
     "iopub.status.idle": "2021-12-26T05:08:51.852442Z",
     "shell.execute_reply": "2021-12-26T05:08:51.851541Z",
     "shell.execute_reply.started": "2021-12-26T05:08:51.747413Z"
    },
    "id": "hfvkibbQdCNu",
    "outputId": "435fe129-9dca-4697-dac5-cfd2c51e440f"
   },
   "outputs": [
    {
     "data": {
      "text/html": [
       "<div>\n",
       "<style scoped>\n",
       "    .dataframe tbody tr th:only-of-type {\n",
       "        vertical-align: middle;\n",
       "    }\n",
       "\n",
       "    .dataframe tbody tr th {\n",
       "        vertical-align: top;\n",
       "    }\n",
       "\n",
       "    .dataframe thead th {\n",
       "        text-align: right;\n",
       "    }\n",
       "</style>\n",
       "<table border=\"1\" class=\"dataframe\">\n",
       "  <thead>\n",
       "    <tr style=\"text-align: right;\">\n",
       "      <th></th>\n",
       "      <th>index</th>\n",
       "      <th>img_add</th>\n",
       "      <th>GT_add</th>\n",
       "      <th>class</th>\n",
       "      <th>angle</th>\n",
       "    </tr>\n",
       "  </thead>\n",
       "  <tbody>\n",
       "    <tr>\n",
       "      <th>0</th>\n",
       "      <td>0</td>\n",
       "      <td>mnist/val/GT/GT0.pt</td>\n",
       "      <td>mnist/val/img/img0.pt</td>\n",
       "      <td>7</td>\n",
       "      <td>118</td>\n",
       "    </tr>\n",
       "    <tr>\n",
       "      <th>1</th>\n",
       "      <td>1</td>\n",
       "      <td>mnist/val/GT/GT1.pt</td>\n",
       "      <td>mnist/val/img/img1.pt</td>\n",
       "      <td>7</td>\n",
       "      <td>211</td>\n",
       "    </tr>\n",
       "    <tr>\n",
       "      <th>2</th>\n",
       "      <td>2</td>\n",
       "      <td>mnist/val/GT/GT2.pt</td>\n",
       "      <td>mnist/val/img/img2.pt</td>\n",
       "      <td>7</td>\n",
       "      <td>257</td>\n",
       "    </tr>\n",
       "    <tr>\n",
       "      <th>3</th>\n",
       "      <td>3</td>\n",
       "      <td>mnist/val/GT/GT3.pt</td>\n",
       "      <td>mnist/val/img/img3.pt</td>\n",
       "      <td>7</td>\n",
       "      <td>116</td>\n",
       "    </tr>\n",
       "    <tr>\n",
       "      <th>4</th>\n",
       "      <td>4</td>\n",
       "      <td>mnist/val/GT/GT4.pt</td>\n",
       "      <td>mnist/val/img/img4.pt</td>\n",
       "      <td>7</td>\n",
       "      <td>74</td>\n",
       "    </tr>\n",
       "    <tr>\n",
       "      <th>...</th>\n",
       "      <td>...</td>\n",
       "      <td>...</td>\n",
       "      <td>...</td>\n",
       "      <td>...</td>\n",
       "      <td>...</td>\n",
       "    </tr>\n",
       "    <tr>\n",
       "      <th>49995</th>\n",
       "      <td>49995</td>\n",
       "      <td>mnist/val/GT/GT49995.pt</td>\n",
       "      <td>mnist/val/img/img49995.pt</td>\n",
       "      <td>1</td>\n",
       "      <td>318</td>\n",
       "    </tr>\n",
       "    <tr>\n",
       "      <th>49996</th>\n",
       "      <td>49996</td>\n",
       "      <td>mnist/val/GT/GT49996.pt</td>\n",
       "      <td>mnist/val/img/img49996.pt</td>\n",
       "      <td>1</td>\n",
       "      <td>318</td>\n",
       "    </tr>\n",
       "    <tr>\n",
       "      <th>49997</th>\n",
       "      <td>49997</td>\n",
       "      <td>mnist/val/GT/GT49997.pt</td>\n",
       "      <td>mnist/val/img/img49997.pt</td>\n",
       "      <td>1</td>\n",
       "      <td>135</td>\n",
       "    </tr>\n",
       "    <tr>\n",
       "      <th>49998</th>\n",
       "      <td>49998</td>\n",
       "      <td>mnist/val/GT/GT49998.pt</td>\n",
       "      <td>mnist/val/img/img49998.pt</td>\n",
       "      <td>1</td>\n",
       "      <td>101</td>\n",
       "    </tr>\n",
       "    <tr>\n",
       "      <th>49999</th>\n",
       "      <td>49999</td>\n",
       "      <td>mnist/val/GT/GT49999.pt</td>\n",
       "      <td>mnist/val/img/img49999.pt</td>\n",
       "      <td>1</td>\n",
       "      <td>119</td>\n",
       "    </tr>\n",
       "  </tbody>\n",
       "</table>\n",
       "<p>50000 rows × 5 columns</p>\n",
       "</div>"
      ],
      "text/plain": [
       "       index                  img_add                     GT_add  class  angle\n",
       "0          0      mnist/val/GT/GT0.pt      mnist/val/img/img0.pt      7    118\n",
       "1          1      mnist/val/GT/GT1.pt      mnist/val/img/img1.pt      7    211\n",
       "2          2      mnist/val/GT/GT2.pt      mnist/val/img/img2.pt      7    257\n",
       "3          3      mnist/val/GT/GT3.pt      mnist/val/img/img3.pt      7    116\n",
       "4          4      mnist/val/GT/GT4.pt      mnist/val/img/img4.pt      7     74\n",
       "...      ...                      ...                        ...    ...    ...\n",
       "49995  49995  mnist/val/GT/GT49995.pt  mnist/val/img/img49995.pt      1    318\n",
       "49996  49996  mnist/val/GT/GT49996.pt  mnist/val/img/img49996.pt      1    318\n",
       "49997  49997  mnist/val/GT/GT49997.pt  mnist/val/img/img49997.pt      1    135\n",
       "49998  49998  mnist/val/GT/GT49998.pt  mnist/val/img/img49998.pt      1    101\n",
       "49999  49999  mnist/val/GT/GT49999.pt  mnist/val/img/img49999.pt      1    119\n",
       "\n",
       "[50000 rows x 5 columns]"
      ]
     },
     "execution_count": 19,
     "metadata": {},
     "output_type": "execute_result"
    }
   ],
   "source": [
    "pd.read_csv('mnist_val.csv')"
   ]
  },
  {
   "cell_type": "code",
   "execution_count": 16,
   "metadata": {
    "execution": {
     "iopub.execute_input": "2021-12-26T05:07:52.284551Z",
     "iopub.status.busy": "2021-12-26T05:07:52.284302Z",
     "iopub.status.idle": "2021-12-26T05:07:52.293293Z",
     "shell.execute_reply": "2021-12-26T05:07:52.292416Z",
     "shell.execute_reply.started": "2021-12-26T05:07:52.284522Z"
    },
    "id": "5Iktez3AMaUf"
   },
   "outputs": [],
   "source": [
    "class Dataset(torch.utils.data.Dataset):\n",
    "  'Characterizes a dataset for PyTorch'\n",
    "  def __init__(self, data_frame, is_google_colab=False):\n",
    "        'Initialization'\n",
    "        self.angle = list(data_frame['angle'])\n",
    "        self.img_add = list(data_frame['img_add'])\n",
    "        self.GT_add = list(data_frame['GT_add'])\n",
    "        self.class_ = list(data_frame['class'])\n",
    "        #if you run this on google colab set this True\n",
    "        self.is_google_colab = is_google_colab\n",
    "        \n",
    "        self.len_ =  len(list(data_frame['index']))\n",
    "\n",
    "\n",
    "\n",
    "  def __len__(self):\n",
    "        'Denotes the total number of samples'\n",
    "        return self.len_\n",
    "\n",
    "\n",
    "  def __getitem__(self, index):\n",
    "        # Load data and get lab\n",
    "        if self.is_google_colab:\n",
    "          pre = 'content/'\n",
    "        else:\n",
    "          pre = './'\n",
    "        X_add = pre+str(self.img_add[index])\n",
    "        Y_add = pre+str(self.GT_add[index])\n",
    "        X = torch.load(X_add)\n",
    "        Y = torch.load(Y_add)\n",
    "        extra_params = [self.angle[index], self.class_[index]]\n",
    "\n",
    "        return X, Y, extra_params"
   ]
  },
  {
   "cell_type": "code",
   "execution_count": 20,
   "metadata": {
    "execution": {
     "iopub.execute_input": "2021-12-26T05:09:12.736342Z",
     "iopub.status.busy": "2021-12-26T05:09:12.735795Z",
     "iopub.status.idle": "2021-12-26T05:09:13.505411Z",
     "shell.execute_reply": "2021-12-26T05:09:13.504665Z",
     "shell.execute_reply.started": "2021-12-26T05:09:12.736305Z"
    },
    "id": "fXKM06duNHMe"
   },
   "outputs": [],
   "source": [
    "#if you run this on google colab set this True\n",
    "is_google_colab = False\n",
    "mnist_train_info = pd.read_csv('mnist_train.csv')\n",
    "train_data = Dataset(mnist_train_info, is_google_colab)\n",
    "\n",
    "mnist_val_info = pd.read_csv('mnist_val.csv')\n",
    "val_data = Dataset(mnist_val_info, is_google_colab)\n",
    "\n",
    "mnist_test_info = pd.read_csv('mnist_val.csv')\n",
    "test_data = Dataset(mnist_test_info, is_google_colab)"
   ]
  },
  {
   "cell_type": "code",
   "execution_count": 21,
   "metadata": {
    "execution": {
     "iopub.execute_input": "2021-12-26T05:09:15.768893Z",
     "iopub.status.busy": "2021-12-26T05:09:15.768599Z",
     "iopub.status.idle": "2021-12-26T05:09:15.776951Z",
     "shell.execute_reply": "2021-12-26T05:09:15.775705Z",
     "shell.execute_reply.started": "2021-12-26T05:09:15.768865Z"
    },
    "id": "RTnph1Xdel4d",
    "outputId": "474063af-041e-40fd-c88f-09a0ad9171e1"
   },
   "outputs": [
    {
     "name": "stdout",
     "output_type": "stream",
     "text": [
      "250000 50000 50000\n"
     ]
    }
   ],
   "source": [
    "print(len(train_data), len(val_data), len(test_data))"
   ]
  },
  {
   "cell_type": "code",
   "execution_count": 41,
   "metadata": {
    "execution": {
     "iopub.execute_input": "2021-12-26T05:18:38.407332Z",
     "iopub.status.busy": "2021-12-26T05:18:38.407066Z",
     "iopub.status.idle": "2021-12-26T05:18:38.415591Z",
     "shell.execute_reply": "2021-12-26T05:18:38.414867Z",
     "shell.execute_reply.started": "2021-12-26T05:18:38.407302Z"
    },
    "id": "d-tMCjMyeI2m",
    "outputId": "270adca4-1d3e-4a37-ee98-2bc59d97b64a"
   },
   "outputs": [
    {
     "data": {
      "text/plain": [
       "{'train': <torch.utils.data.dataloader.DataLoader at 0x7f24fe715490>,\n",
       " 'val': <torch.utils.data.dataloader.DataLoader at 0x7f24fe715a10>,\n",
       " 'test': <torch.utils.data.dataloader.DataLoader at 0x7f24fe715650>}"
      ]
     },
     "execution_count": 41,
     "metadata": {},
     "output_type": "execute_result"
    }
   ],
   "source": [
    "loaders = {\n",
    "    'train' : torch.utils.data.DataLoader(train_data, \n",
    "                                          batch_size=150, \n",
    "                                          shuffle=True, \n",
    "                                          num_workers=0),\n",
    "\n",
    "    'val' : torch.utils.data.DataLoader(val_data, \n",
    "                                          batch_size=200, \n",
    "                                          shuffle=True, \n",
    "                                          num_workers=0),       \n",
    "    \n",
    "    'test'  : torch.utils.data.DataLoader(test_data, \n",
    "                                          batch_size=100, \n",
    "                                          shuffle=True, \n",
    "                                          num_workers=0),\n",
    "}\n",
    "loaders"
   ]
  },
  {
   "cell_type": "code",
   "execution_count": 23,
   "metadata": {
    "execution": {
     "iopub.execute_input": "2021-12-26T05:09:26.148220Z",
     "iopub.status.busy": "2021-12-26T05:09:26.147968Z",
     "iopub.status.idle": "2021-12-26T05:09:26.195956Z",
     "shell.execute_reply": "2021-12-26T05:09:26.195276Z",
     "shell.execute_reply.started": "2021-12-26T05:09:26.148193Z"
    },
    "id": "Zyfbn1T6OCiX"
   },
   "outputs": [],
   "source": [
    "inp, res, params = next(iter(loaders['val']))\n",
    "angles = params[0]\n",
    "classes = params[1]"
   ]
  },
  {
   "cell_type": "code",
   "execution_count": 24,
   "metadata": {
    "execution": {
     "iopub.execute_input": "2021-12-26T05:09:28.309449Z",
     "iopub.status.busy": "2021-12-26T05:09:28.309189Z",
     "iopub.status.idle": "2021-12-26T05:09:28.315684Z",
     "shell.execute_reply": "2021-12-26T05:09:28.314853Z",
     "shell.execute_reply.started": "2021-12-26T05:09:28.309420Z"
    },
    "id": "7shVDsZfPeVw"
   },
   "outputs": [],
   "source": [
    "def plot_image(inp, res, angles=None, classes=None, numer=4):\n",
    "  for i in range(numer):\n",
    "    plt.imshow(inp[i].permute(1,2,0)[:,:, 0], cmap='gray')\n",
    "    if angles is not None:\n",
    "      plt.title(angles[i].item())\n",
    "    plt.show()\n",
    "    plt.imshow(res[i].permute(1,2,0)[:,:, 0], cmap='gray')\n",
    "    plt.show()"
   ]
  },
  {
   "cell_type": "code",
   "execution_count": 25,
   "metadata": {
    "execution": {
     "iopub.execute_input": "2021-12-26T05:09:30.772893Z",
     "iopub.status.busy": "2021-12-26T05:09:30.772349Z",
     "iopub.status.idle": "2021-12-26T05:09:32.232205Z",
     "shell.execute_reply": "2021-12-26T05:09:32.231461Z",
     "shell.execute_reply.started": "2021-12-26T05:09:30.772853Z"
    },
    "id": "Tojb67OuL9Eb",
    "outputId": "ef06f5bc-8acc-4a1a-c6f2-cf6a20d84966"
   },
   "outputs": [
    {
     "data": {
      "image/png": "[encoded data removed]",
      "text/plain": [
       "<Figure size 432x288 with 1 Axes>"
      ]
     },
     "metadata": {
      "needs_background": "light"
     },
     "output_type": "display_data"
    },
    {
     "data": {
      "image/png": "[encoded data removed]",
      "text/plain": [
       "<Figure size 432x288 with 1 Axes>"
      ]
     },
     "metadata": {
      "needs_background": "light"
     },
     "output_type": "display_data"
    },
    {
     "data": {
      "image/png": "[encoded data removed]",
      "text/plain": [
       "<Figure size 432x288 with 1 Axes>"
      ]
     },
     "metadata": {
      "needs_background": "light"
     },
     "output_type": "display_data"
    },
    {
     "data": {
      "image/png": "[encoded data removed]",
      "text/plain": [
       "<Figure size 432x288 with 1 Axes>"
      ]
     },
     "metadata": {
      "needs_background": "light"
     },
     "output_type": "display_data"
    },
    {
     "data": {
      "image/png": "[encoded data removed]",
      "text/plain": [
       "<Figure size 432x288 with 1 Axes>"
      ]
     },
     "metadata": {
      "needs_background": "light"
     },
     "output_type": "display_data"
    },
    {
     "data": {
      "image/png": "[encoded data removed]",
      "text/plain": [
       "<Figure size 432x288 with 1 Axes>"
      ]
     },
     "metadata": {
      "needs_background": "light"
     },
     "output_type": "display_data"
    },
    {
     "data": {
      "image/png": "[encoded data removed]",
      "text/plain": [
       "<Figure size 432x288 with 1 Axes>"
      ]
     },
     "metadata": {
      "needs_background": "light"
     },
     "output_type": "display_data"
    },
    {
     "data": {
      "image/png": "[encoded data removed]",
      "text/plain": [
       "<Figure size 432x288 with 1 Axes>"
      ]
     },
     "metadata": {
      "needs_background": "light"
     },
     "output_type": "display_data"
    }
   ],
   "source": [
    "plot_image(inp, res, angles)"
   ]
  },
  {
   "cell_type": "code",
   "execution_count": 26,
   "metadata": {
    "execution": {
     "iopub.execute_input": "2021-12-26T05:09:47.872538Z",
     "iopub.status.busy": "2021-12-26T05:09:47.872288Z",
     "iopub.status.idle": "2021-12-26T05:09:47.879869Z",
     "shell.execute_reply": "2021-12-26T05:09:47.879086Z",
     "shell.execute_reply.started": "2021-12-26T05:09:47.872509Z"
    },
    "id": "3rUCBnpTU3G1"
   },
   "outputs": [],
   "source": [
    "import logging\n",
    "logging.basicConfig()\n",
    "logging.getLogger().setLevel(logging.INFO)\n",
    "logger = logging.getLogger('MNIST')"
   ]
  },
  {
   "cell_type": "code",
   "execution_count": 27,
   "metadata": {
    "execution": {
     "iopub.execute_input": "2021-12-26T05:09:51.015380Z",
     "iopub.status.busy": "2021-12-26T05:09:51.014834Z",
     "iopub.status.idle": "2021-12-26T05:09:51.022172Z",
     "shell.execute_reply": "2021-12-26T05:09:51.021424Z",
     "shell.execute_reply.started": "2021-12-26T05:09:51.015341Z"
    },
    "id": "k847bWiEW6G4",
    "outputId": "facae696-3ae2-4665-ee65-a2a4240ac97a"
   },
   "outputs": [],
   "source": [
    "#sometimes logger.info doesn't work. please make sure this command orint info\n",
    "logger.info('This is an info message')"
   ]
  },
  {
   "cell_type": "code",
   "execution_count": 29,
   "metadata": {
    "execution": {
     "iopub.execute_input": "2021-12-26T05:10:05.756427Z",
     "iopub.status.busy": "2021-12-26T05:10:05.756173Z",
     "iopub.status.idle": "2021-12-26T05:10:05.769803Z",
     "shell.execute_reply": "2021-12-26T05:10:05.769120Z",
     "shell.execute_reply.started": "2021-12-26T05:10:05.756398Z"
    },
    "id": "Y9LdwUCkEwSU",
    "outputId": "b28fcc7c-675c-4af2-a9bc-9646cc502dcc"
   },
   "outputs": [],
   "source": [
    "class DoubleConv(nn.Module):\n",
    "    #(convolution => [BN] => ReLU) * 2\n",
    "\n",
    "    def __init__(self, in_channels, out_channels, mid_channels=None):\n",
    "        super().__init__()\n",
    "        if not mid_channels:\n",
    "            mid_channels = out_channels\n",
    "        self.double_conv = nn.Sequential(\n",
    "            nn.Conv2d(in_channels, mid_channels, kernel_size=3, padding=1, bias=False),\n",
    "            nn.BatchNorm2d(mid_channels),\n",
    "            nn.ReLU(inplace=True),\n",
    "            nn.Conv2d(mid_channels, out_channels, kernel_size=3, padding=1, bias=False),\n",
    "            nn.BatchNorm2d(out_channels),\n",
    "            nn.ReLU(inplace=True)\n",
    "        )\n",
    "\n",
    "    def forward(self, x):\n",
    "        return self.double_conv(x)\n",
    "\n",
    "\n",
    "class Down(nn.Module):\n",
    "    # Downscaling with maxpool then double conv\n",
    "    def __init__(self, in_channels, out_channels):\n",
    "        super().__init__()\n",
    "        self.maxpool_conv = nn.Sequential(\n",
    "            nn.MaxPool2d(2),\n",
    "            DoubleConv(in_channels, out_channels)\n",
    "        )\n",
    "\n",
    "    def forward(self, x):\n",
    "        return self.maxpool_conv(x)\n",
    "\n",
    "\n",
    "class Up(nn.Module):\n",
    "    #Upscaling then double conv\n",
    "\n",
    "    def __init__(self, in_channels, out_channels):\n",
    "        super().__init__()\n",
    "        self.up = nn.Upsample(scale_factor=2, mode='bilinear', align_corners=True)\n",
    "        self.conv = DoubleConv(in_channels, out_channels, in_channels // 2)\n",
    "\n",
    "    def forward(self, x1, x2):\n",
    "        x1 = self.up(x1)\n",
    "        diffY = x2.size()[2] - x1.size()[2]\n",
    "        diffX = x2.size()[3] - x1.size()[3]\n",
    "\n",
    "        x1 = F.pad(x1, [diffX // 2, diffX - diffX // 2,\n",
    "                        diffY // 2, diffY - diffY // 2])\n",
    "        \n",
    "        x = torch.cat([x2, x1], dim=1)\n",
    "        return self.conv(x)\n",
    "\n",
    "\n",
    "class OutConv(nn.Module):\n",
    "    def __init__(self, in_channels, out_channels):\n",
    "        super(OutConv, self).__init__()\n",
    "        self.conv = nn.Conv2d(in_channels, out_channels, kernel_size=1)\n",
    "\n",
    "    def forward(self, x):\n",
    "        return self.conv(x)"
   ]
  },
  {
   "cell_type": "code",
   "execution_count": 30,
   "metadata": {
    "execution": {
     "iopub.execute_input": "2021-12-26T05:10:15.126228Z",
     "iopub.status.busy": "2021-12-26T05:10:15.125889Z",
     "iopub.status.idle": "2021-12-26T05:10:15.138458Z",
     "shell.execute_reply": "2021-12-26T05:10:15.137807Z",
     "shell.execute_reply.started": "2021-12-26T05:10:15.126186Z"
    },
    "id": "5HZQ9ZCZEm31",
    "outputId": "63dcd402-44a4-4a03-d548-02ec0ede4d5d"
   },
   "outputs": [],
   "source": [
    "class MNIST_Net(nn.Module):\n",
    "    def __init__(self, n_channels, n_classes):\n",
    "        super(MNIST_Net, self).__init__()\n",
    "        self.n_channels = n_channels\n",
    "        self.n_classes = n_classes\n",
    "\n",
    "        self.inc = DoubleConv(n_channels, 64)\n",
    "        self.down1 = Down(64, 128)\n",
    "        self.down2 = Down(128, 256)\n",
    "        self.down3 = Down(256, 512)\n",
    "        factor = 2\n",
    "        self.down4 = Down(512, 1024 // factor)\n",
    "        self.up1 = Up(1024, 512 // factor)\n",
    "        self.up2 = Up(512, 256 // factor)\n",
    "        self.up3 = Up(256, 128 // factor)\n",
    "        self.up4 = Up(128, 64)\n",
    "        self.outc = OutConv(64, n_classes)\n",
    "\n",
    "    def forward(self, x):\n",
    "        x1 = self.inc(x)\n",
    "        x2 = self.down1(x1)\n",
    "        x3 = self.down2(x2)\n",
    "        x4 = self.down3(x3)\n",
    "        x5 = self.down4(x4)\n",
    "        x = self.up1(x5, x4)\n",
    "        x = self.up2(x, x3)\n",
    "        x = self.up3(x, x2)\n",
    "        x = self.up4(x, x1)\n",
    "        logits = self.outc(x)\n",
    "        return logits"
   ]
  },
  {
   "cell_type": "code",
   "execution_count": 31,
   "metadata": {
    "execution": {
     "iopub.execute_input": "2021-12-26T05:10:15.140736Z",
     "iopub.status.busy": "2021-12-26T05:10:15.140457Z",
     "iopub.status.idle": "2021-12-26T05:10:18.353613Z",
     "shell.execute_reply": "2021-12-26T05:10:18.352879Z",
     "shell.execute_reply.started": "2021-12-26T05:10:15.140700Z"
    },
    "id": "EITKRIz5FBAW"
   },
   "outputs": [],
   "source": [
    "net = MNIST_Net(1, 1).to(device=device)"
   ]
  },
  {
   "cell_type": "code",
   "execution_count": 32,
   "metadata": {
    "execution": {
     "iopub.execute_input": "2021-12-26T05:10:18.355887Z",
     "iopub.status.busy": "2021-12-26T05:10:18.355418Z",
     "iopub.status.idle": "2021-12-26T05:10:18.365109Z",
     "shell.execute_reply": "2021-12-26T05:10:18.364328Z",
     "shell.execute_reply.started": "2021-12-26T05:10:18.355828Z"
    },
    "id": "M76pHHgvx0hu",
    "outputId": "974e7913-27d1-4063-c481-b4e30242f187"
   },
   "outputs": [
    {
     "data": {
      "text/plain": [
       "17261825"
      ]
     },
     "execution_count": 32,
     "metadata": {},
     "output_type": "execute_result"
    }
   ],
   "source": [
    "model_parameters = filter(lambda p: p.requires_grad, net.parameters())\n",
    "params = sum([np.prod(p.size()) for p in model_parameters])\n",
    "params"
   ]
  },
  {
   "cell_type": "code",
   "execution_count": 33,
   "metadata": {
    "execution": {
     "iopub.execute_input": "2021-12-26T05:10:18.368149Z",
     "iopub.status.busy": "2021-12-26T05:10:18.367904Z",
     "iopub.status.idle": "2021-12-26T05:10:18.375967Z",
     "shell.execute_reply": "2021-12-26T05:10:18.375197Z",
     "shell.execute_reply.started": "2021-12-26T05:10:18.368116Z"
    },
    "id": "p344W-9iK0mD"
   },
   "outputs": [],
   "source": [
    "criterion = nn.MSELoss()\n",
    "optimizer = optim.SGD(net.parameters(), lr=0.1,\n",
    "                      momentum=0.9, weight_decay=5e-4)\n",
    "scheduler = torch.optim.lr_scheduler.StepLR(optimizer, step_size=2, gamma=0.7)"
   ]
  },
  {
   "cell_type": "code",
   "execution_count": 34,
   "metadata": {
    "execution": {
     "iopub.execute_input": "2021-12-26T05:10:18.378164Z",
     "iopub.status.busy": "2021-12-26T05:10:18.377593Z",
     "iopub.status.idle": "2021-12-26T05:10:23.374231Z",
     "shell.execute_reply": "2021-12-26T05:10:23.373535Z",
     "shell.execute_reply.started": "2021-12-26T05:10:18.378126Z"
    },
    "id": "p5YAu_6dK8e5",
    "outputId": "af6a9007-b2d6-43b6-a40b-f240381c7570"
   },
   "outputs": [
    {
     "data": {
      "text/plain": [
       "tensor(0.3919, device='cuda:0', grad_fn=<MseLossBackward>)"
      ]
     },
     "execution_count": 34,
     "metadata": {},
     "output_type": "execute_result"
    }
   ],
   "source": [
    "criterion(res.to(device), net(inp.to(device)))"
   ]
  },
  {
   "cell_type": "code",
   "execution_count": 35,
   "metadata": {
    "execution": {
     "iopub.execute_input": "2021-12-26T05:10:23.375577Z",
     "iopub.status.busy": "2021-12-26T05:10:23.375346Z",
     "iopub.status.idle": "2021-12-26T05:10:24.692441Z",
     "shell.execute_reply": "2021-12-26T05:10:24.691772Z",
     "shell.execute_reply.started": "2021-12-26T05:10:23.375542Z"
    },
    "id": "SMfW40DNMEtt",
    "outputId": "a1c3ac5c-204e-417f-8ab1-cec7e5c519b9"
   },
   "outputs": [
    {
     "data": {
      "image/png": "[encoded data removed]",
      "text/plain": [
       "<Figure size 432x288 with 1 Axes>"
      ]
     },
     "metadata": {
      "needs_background": "light"
     },
     "output_type": "display_data"
    },
    {
     "data": {
      "image/png": "[encoded data removed]",
      "text/plain": [
       "<Figure size 432x288 with 1 Axes>"
      ]
     },
     "metadata": {
      "needs_background": "light"
     },
     "output_type": "display_data"
    },
    {
     "data": {
      "image/png": "[encoded data removed]",
      "text/plain": [
       "<Figure size 432x288 with 1 Axes>"
      ]
     },
     "metadata": {
      "needs_background": "light"
     },
     "output_type": "display_data"
    },
    {
     "data": {
      "image/png": "[encoded data removed]",
      "text/plain": [
       "<Figure size 432x288 with 1 Axes>"
      ]
     },
     "metadata": {
      "needs_background": "light"
     },
     "output_type": "display_data"
    },
    {
     "data": {
      "image/png": "[encoded data removed]",
      "text/plain": [
       "<Figure size 432x288 with 1 Axes>"
      ]
     },
     "metadata": {
      "needs_background": "light"
     },
     "output_type": "display_data"
    },
    {
     "data": {
      "image/png": "[encoded data removed]",
      "text/plain": [
       "<Figure size 432x288 with 1 Axes>"
      ]
     },
     "metadata": {
      "needs_background": "light"
     },
     "output_type": "display_data"
    },
    {
     "data": {
      "image/png": "[encoded data removed]",
      "text/plain": [
       "<Figure size 432x288 with 1 Axes>"
      ]
     },
     "metadata": {
      "needs_background": "light"
     },
     "output_type": "display_data"
    },
    {
     "data": {
      "image/png": "[encoded data removed]",
      "text/plain": [
       "<Figure size 432x288 with 1 Axes>"
      ]
     },
     "metadata": {
      "needs_background": "light"
     },
     "output_type": "display_data"
    }
   ],
   "source": [
    "y = torch.tensor( net(inp.to(device)).cpu().detach().numpy() )\n",
    "plot_image(y, res)"
   ]
  },
  {
   "cell_type": "code",
   "execution_count": 36,
   "metadata": {
    "execution": {
     "iopub.execute_input": "2021-12-26T05:10:24.693799Z",
     "iopub.status.busy": "2021-12-26T05:10:24.693525Z",
     "iopub.status.idle": "2021-12-26T05:10:24.699986Z",
     "shell.execute_reply": "2021-12-26T05:10:24.699168Z",
     "shell.execute_reply.started": "2021-12-26T05:10:24.693763Z"
    },
    "id": "8O_0JjL-qQjr"
   },
   "outputs": [],
   "source": [
    "class AverageMeter(object):\n",
    "    \"\"\"Computes and stores the average and current value\"\"\"\n",
    "    def __init__(self):\n",
    "        self.reset()\n",
    "\n",
    "    def reset(self):\n",
    "        self.val = 0\n",
    "        self.avg = 0\n",
    "        self.sum = 0\n",
    "        self.count = 0\n",
    "\n",
    "    def update(self, val, n=1):\n",
    "        self.val = val\n",
    "        self.sum += val * n\n",
    "        self.count += n\n",
    "        self.avg = self.sum / self.count"
   ]
  },
  {
   "cell_type": "code",
   "execution_count": 48,
   "metadata": {
    "execution": {
     "iopub.execute_input": "2021-12-26T05:26:35.773173Z",
     "iopub.status.busy": "2021-12-26T05:26:35.772914Z",
     "iopub.status.idle": "2021-12-26T05:26:35.785432Z",
     "shell.execute_reply": "2021-12-26T05:26:35.784330Z",
     "shell.execute_reply.started": "2021-12-26T05:26:35.773142Z"
    },
    "id": "qnLg6xcKOxQg"
   },
   "outputs": [],
   "source": [
    "# Training\n",
    "def train(epoch, logger_period=500, val_logger_period=450):\n",
    "    net.train()\n",
    "    # train_loss_total = AverageMeter()\n",
    "    for batch_idx, (inputs, targets, extra_params) in enumerate(loaders['train']):\n",
    "        inputs, targets, = inputs.to(device), targets.to(device)\n",
    "        optimizer.zero_grad()\n",
    "        outputs = net(inputs)\n",
    "        loss = criterion(outputs, targets)\n",
    "        # train_loss_total.update(loss)\n",
    "        loss.backward()\n",
    "        optimizer.step()\n",
    "        if batch_idx % logger_period == 0 and batch_idx > 0:\n",
    "            print(f\"Epoch:{epoch} Batch: {batch_idx} Train_Loss: {loss.item():.5}\")\n",
    "#         if batch_idx == 10:\n",
    "#           break\n",
    "\n",
    "    net.eval()\n",
    "    # val_loss_total = AverageMeter()\n",
    "    for batch_idx, (inputs, targets, extra_params) in enumerate(loaders['val']):\n",
    "        inputs, targets = inputs.to(device), targets.to(device)\n",
    "        outputs = net(inputs)\n",
    "        loss = criterion(outputs, targets)\n",
    "        # val_loss_total.update(loss)\n",
    "        if batch_idx % val_logger_period == 0 and batch_idx > 0 :\n",
    "            print(f\"Epoch:{epoch} Batch: {batch_idx} Val_Loss: {loss.item():.5}\")\n",
    "      \n",
    "    torch.save(net.state_dict(), 'saved_model.pth')\n",
    "    torch.save({\n",
    "    'state_dict': net.state_dict(),\n",
    "    'optimizer' : optimizer.state_dict(),\n",
    "    }, 'MNIST_Net.pth.tar')\n",
    "\n",
    "\n",
    "\n",
    "def test(epoch, checkpoint=0):\n",
    "    net = MNIST_Net(1, 1).to(device=device)\n",
    "    checkpoint = torch.load('MNIST_Net.pth.tar')\n",
    "    net.load_state_dict(checkpoint['state_dict'])\n",
    "    optimizer.load_state_dict(checkpoint['optimizer'])\n",
    "\n",
    "    net.eval()\n",
    "    loss_total = AverageMeter()\n",
    "    with torch.no_grad():\n",
    "        for batch_idx, (inputs, targets, extra_params) in enumerate(loaders['test']):\n",
    "            inputs, targets = inputs.to(device), targets.to(device)\n",
    "            outputs = net(inputs)\n",
    "            loss = criterion(outputs, targets)\n",
    "            loss_total.update(loss)\n",
    "\n",
    "\n",
    "        print(f'Test:  Epoch:{epoch} Loss:{loss_total.avg:.4}')\n",
    "        print()\n",
    "    \n"
   ]
  },
  {
   "cell_type": "code",
   "execution_count": 39,
   "metadata": {
    "execution": {
     "iopub.execute_input": "2021-12-26T05:11:17.587443Z",
     "iopub.status.busy": "2021-12-26T05:11:17.586879Z",
     "iopub.status.idle": "2021-12-26T05:15:06.349245Z",
     "shell.execute_reply": "2021-12-26T05:15:06.348504Z",
     "shell.execute_reply.started": "2021-12-26T05:11:17.587403Z"
    },
    "id": "fBjnar-QbWoQ",
    "outputId": "768a63ba-39e9-4bbf-d634-c3144c0783d2"
   },
   "outputs": [
    {
     "name": "stdout",
     "output_type": "stream",
     "text": [
      "Epoch:0 Batch: 50 Train_Loss: 0.066331\n",
      "Epoch:0 Batch: 100 Train_Loss: 0.063185\n",
      "Epoch:0 Batch: 150 Train_Loss: 0.062571\n",
      "Epoch:0 Batch: 200 Train_Loss: 0.060478\n",
      "Epoch:0 Batch: 250 Train_Loss: 0.057139\n",
      "Epoch:0 Batch: 300 Train_Loss: 0.056875\n",
      "Epoch:0 Batch: 350 Train_Loss: 0.056707\n",
      "Epoch:0 Batch: 400 Train_Loss: 0.055298\n",
      "Epoch:0 Batch: 450 Train_Loss: 0.05452\n",
      "Epoch:0 Batch: 500 Train_Loss: 0.050617\n",
      "Epoch:0 Batch: 550 Train_Loss: 0.049032\n",
      "Epoch:0 Batch: 600 Train_Loss: 0.049853\n",
      "Epoch:0 Batch: 650 Train_Loss: 0.04819\n",
      "Epoch:0 Batch: 700 Train_Loss: 0.044832\n",
      "Epoch:0 Batch: 750 Train_Loss: 0.049728\n",
      "Epoch:0 Batch: 800 Train_Loss: 0.045915\n",
      "Epoch:0 Batch: 850 Train_Loss: 0.048289\n",
      "Epoch:0 Batch: 900 Train_Loss: 0.046542\n",
      "Epoch:0 Batch: 950 Train_Loss: 0.046643\n",
      "Epoch:0 Batch: 1000 Train_Loss: 0.046793\n",
      "Epoch:0 Batch: 1050 Train_Loss: 0.045687\n",
      "Epoch:0 Batch: 1100 Train_Loss: 0.04757\n",
      "Epoch:0 Batch: 1150 Train_Loss: 0.046973\n",
      "Epoch:0 Batch: 1200 Train_Loss: 0.041963\n",
      "Epoch:0 Batch: 1250 Train_Loss: 0.043263\n",
      "Epoch:0 Batch: 1300 Train_Loss: 0.040352\n",
      "Epoch:0 Batch: 1350 Train_Loss: 0.046533\n",
      "Epoch:0 Batch: 1400 Train_Loss: 0.044487\n",
      "Epoch:0 Batch: 1450 Train_Loss: 0.043456\n",
      "Epoch:0 Batch: 1500 Train_Loss: 0.040167\n",
      "Epoch:0 Batch: 1550 Train_Loss: 0.045415\n",
      "Epoch:0 Batch: 1600 Train_Loss: 0.043775\n",
      "Epoch:0 Batch: 1650 Train_Loss: 0.044704\n",
      "Epoch:0 Batch: 1700 Train_Loss: 0.044168\n",
      "Epoch:0 Batch: 1750 Train_Loss: 0.043257\n",
      "Epoch:0 Batch: 1800 Train_Loss: 0.043256\n",
      "Epoch:0 Batch: 1850 Train_Loss: 0.041503\n",
      "Epoch:0 Batch: 1900 Train_Loss: 0.040545\n",
      "Epoch:0 Batch: 1950 Train_Loss: 0.041896\n",
      "Epoch:0 Batch: 2000 Train_Loss: 0.041849\n",
      "Epoch:0 Batch: 2050 Train_Loss: 0.043826\n",
      "Epoch:0 Batch: 2100 Train_Loss: 0.038544\n",
      "Epoch:0 Batch: 2150 Train_Loss: 0.037729\n",
      "Epoch:0 Batch: 2200 Train_Loss: 0.041496\n",
      "Epoch:0 Batch: 2250 Train_Loss: 0.038612\n",
      "Epoch:0 Batch: 2300 Train_Loss: 0.039217\n",
      "Epoch:0 Batch: 2350 Train_Loss: 0.038672\n",
      "Epoch:0 Batch: 2400 Train_Loss: 0.038108\n",
      "Epoch:0 Batch: 2450 Train_Loss: 0.040021\n",
      "Epoch:0 Batch: 450 Val_Loss: 0.042634\n",
      "Test:  Epoch:0 Loss:0.04154\n",
      "\n"
     ]
    }
   ],
   "source": [
    "train(0, 50)\n",
    "test(0)"
   ]
  },
  {
   "cell_type": "code",
   "execution_count": 49,
   "metadata": {
    "execution": {
     "iopub.execute_input": "2021-12-26T05:26:40.821661Z",
     "iopub.status.busy": "2021-12-26T05:26:40.821380Z",
     "iopub.status.idle": "2021-12-26T05:26:40.870735Z",
     "shell.execute_reply": "2021-12-26T05:26:40.870005Z",
     "shell.execute_reply.started": "2021-12-26T05:26:40.821625Z"
    },
    "id": "jiXrHl_EbaXT"
   },
   "outputs": [
    {
     "data": {
      "text/plain": [
       "tensor(0.0421, device='cuda:0', grad_fn=<MseLossBackward>)"
      ]
     },
     "execution_count": 49,
     "metadata": {},
     "output_type": "execute_result"
    }
   ],
   "source": [
    "criterion(res.to(device), net(inp.to(device)))"
   ]
  },
  {
   "cell_type": "code",
   "execution_count": 50,
   "metadata": {
    "execution": {
     "iopub.execute_input": "2021-12-26T05:26:43.551458Z",
     "iopub.status.busy": "2021-12-26T05:26:43.551042Z",
     "iopub.status.idle": "2021-12-26T05:26:44.864091Z",
     "shell.execute_reply": "2021-12-26T05:26:44.863424Z",
     "shell.execute_reply.started": "2021-12-26T05:26:43.551422Z"
    },
    "id": "YE04IxAmbYP-"
   },
   "outputs": [
    {
     "data": {
      "image/png": "[encoded data removed]",
      "text/plain": [
       "<Figure size 432x288 with 1 Axes>"
      ]
     },
     "metadata": {
      "needs_background": "light"
     },
     "output_type": "display_data"
    },
    {
     "data": {
      "image/png": "[encoded data removed]",
      "text/plain": [
       "<Figure size 432x288 with 1 Axes>"
      ]
     },
     "metadata": {
      "needs_background": "light"
     },
     "output_type": "display_data"
    },
    {
     "data": {
      "image/png": "[encoded data removed]",
      "text/plain": [
       "<Figure size 432x288 with 1 Axes>"
      ]
     },
     "metadata": {
      "needs_background": "light"
     },
     "output_type": "display_data"
    },
    {
     "data": {
      "image/png": "[encoded data removed]",
      "text/plain": [
       "<Figure size 432x288 with 1 Axes>"
      ]
     },
     "metadata": {
      "needs_background": "light"
     },
     "output_type": "display_data"
    },
    {
     "data": {
      "image/png": "[encoded data removed]",
      "text/plain": [
       "<Figure size 432x288 with 1 Axes>"
      ]
     },
     "metadata": {
      "needs_background": "light"
     },
     "output_type": "display_data"
    },
    {
     "data": {
      "image/png": "[encoded data removed]",
      "text/plain": [
       "<Figure size 432x288 with 1 Axes>"
      ]
     },
     "metadata": {
      "needs_background": "light"
     },
     "output_type": "display_data"
    },
    {
     "data": {
      "image/png": "[encoded data removed]",
      "text/plain": [
       "<Figure size 432x288 with 1 Axes>"
      ]
     },
     "metadata": {
      "needs_background": "light"
     },
     "output_type": "display_data"
    },
    {
     "data": {
      "image/png": "[encoded data removed]",
      "text/plain": [
       "<Figure size 432x288 with 1 Axes>"
      ]
     },
     "metadata": {
      "needs_background": "light"
     },
     "output_type": "display_data"
    }
   ],
   "source": [
    "y = torch.tensor( net(inp.to(device)).cpu().detach().numpy() )\n",
    "plot_image(y, res)"
   ]
  },
  {
   "cell_type": "code",
   "execution_count": 52,
   "metadata": {
    "execution": {
     "iopub.execute_input": "2021-12-26T05:26:57.987802Z",
     "iopub.status.busy": "2021-12-26T05:26:57.987232Z",
     "iopub.status.idle": "2021-12-26T05:26:57.993751Z",
     "shell.execute_reply": "2021-12-26T05:26:57.992700Z",
     "shell.execute_reply.started": "2021-12-26T05:26:57.987764Z"
    }
   },
   "outputs": [],
   "source": [
    "criterion = nn.MSELoss()\n",
    "optimizer = optim.SGD(net.parameters(), lr=0.1,\n",
    "                      momentum=0.9, weight_decay=5e-4)\n",
    "scheduler = torch.optim.lr_scheduler.StepLR(optimizer, step_size=3, gamma=0.65)"
   ]
  },
  {
   "cell_type": "code",
   "execution_count": 53,
   "metadata": {
    "execution": {
     "iopub.execute_input": "2021-12-26T05:26:59.970071Z",
     "iopub.status.busy": "2021-12-26T05:26:59.969653Z",
     "iopub.status.idle": "2021-12-26T06:33:09.306053Z",
     "shell.execute_reply": "2021-12-26T06:33:09.305171Z",
     "shell.execute_reply.started": "2021-12-26T05:26:59.970029Z"
    },
    "id": "H6ykhqRZPLBA"
   },
   "outputs": [
    {
     "name": "stdout",
     "output_type": "stream",
     "text": [
      "Learning Rate For Epoch 0: 0.1\n",
      "Epoch:0 Batch: 800 Train_Loss: 0.028885\n",
      "Epoch:0 Batch: 1600 Train_Loss: 0.031178\n",
      "Epoch:0 Batch: 200 Val_Loss: 0.038468\n",
      "Learning Rate For Epoch 1: 0.1\n",
      "Epoch:1 Batch: 800 Train_Loss: 0.027477\n",
      "Epoch:1 Batch: 1600 Train_Loss: 0.025521\n",
      "Epoch:1 Batch: 200 Val_Loss: 0.037653\n",
      "Learning Rate For Epoch 2: 0.1\n",
      "Epoch:2 Batch: 800 Train_Loss: 0.024519\n",
      "Epoch:2 Batch: 1600 Train_Loss: 0.024824\n",
      "Epoch:2 Batch: 200 Val_Loss: 0.034161\n",
      "Learning Rate For Epoch 3: 0.065\n",
      "Epoch:3 Batch: 800 Train_Loss: 0.021748\n",
      "Epoch:3 Batch: 1600 Train_Loss: 0.020724\n",
      "Epoch:3 Batch: 200 Val_Loss: 0.026584\n",
      "Learning Rate For Epoch 4: 0.065\n",
      "Epoch:4 Batch: 800 Train_Loss: 0.023222\n",
      "Epoch:4 Batch: 1600 Train_Loss: 0.022622\n",
      "Epoch:4 Batch: 200 Val_Loss: 0.028632\n",
      "Learning Rate For Epoch 5: 0.065\n",
      "Epoch:5 Batch: 800 Train_Loss: 0.022299\n",
      "Epoch:5 Batch: 1600 Train_Loss: 0.023207\n",
      "Epoch:5 Batch: 200 Val_Loss: 0.029779\n",
      "Learning Rate For Epoch 6: 0.0423\n",
      "Epoch:6 Batch: 800 Train_Loss: 0.020664\n",
      "Epoch:6 Batch: 1600 Train_Loss: 0.020309\n",
      "Epoch:6 Batch: 200 Val_Loss: 0.024058\n",
      "Learning Rate For Epoch 7: 0.0423\n",
      "Epoch:7 Batch: 800 Train_Loss: 0.01736\n",
      "Epoch:7 Batch: 1600 Train_Loss: 0.016886\n",
      "Epoch:7 Batch: 200 Val_Loss: 0.02604\n",
      "Learning Rate For Epoch 8: 0.0423\n",
      "Epoch:8 Batch: 800 Train_Loss: 0.017715\n",
      "Epoch:8 Batch: 1600 Train_Loss: 0.018574\n",
      "Epoch:8 Batch: 200 Val_Loss: 0.022306\n",
      "Learning Rate For Epoch 9: 0.0275\n",
      "Epoch:9 Batch: 800 Train_Loss: 0.015722\n",
      "Epoch:9 Batch: 1600 Train_Loss: 0.017484\n",
      "Epoch:9 Batch: 200 Val_Loss: 0.021718\n",
      "Learning Rate For Epoch 10: 0.0275\n",
      "Epoch:10 Batch: 800 Train_Loss: 0.017385\n",
      "Epoch:10 Batch: 1600 Train_Loss: 0.018964\n",
      "Epoch:10 Batch: 200 Val_Loss: 0.019504\n",
      "Learning Rate For Epoch 11: 0.0275\n",
      "Epoch:11 Batch: 800 Train_Loss: 0.016628\n",
      "Epoch:11 Batch: 1600 Train_Loss: 0.015714\n",
      "Epoch:11 Batch: 200 Val_Loss: 0.01787\n",
      "Learning Rate For Epoch 12: 0.0179\n",
      "Epoch:12 Batch: 800 Train_Loss: 0.013516\n",
      "Epoch:12 Batch: 1600 Train_Loss: 0.014063\n",
      "Epoch:12 Batch: 200 Val_Loss: 0.021203\n",
      "Learning Rate For Epoch 13: 0.0179\n",
      "Epoch:13 Batch: 800 Train_Loss: 0.013923\n",
      "Epoch:13 Batch: 1600 Train_Loss: 0.013843\n",
      "Epoch:13 Batch: 200 Val_Loss: 0.017062\n",
      "Learning Rate For Epoch 14: 0.0179\n",
      "Epoch:14 Batch: 800 Train_Loss: 0.014212\n",
      "Epoch:14 Batch: 1600 Train_Loss: 0.014669\n",
      "Epoch:14 Batch: 200 Val_Loss: 0.021345\n",
      "Learning Rate For Epoch 15: 0.0116\n",
      "Epoch:15 Batch: 800 Train_Loss: 0.014181\n",
      "Epoch:15 Batch: 1600 Train_Loss: 0.012172\n",
      "Epoch:15 Batch: 200 Val_Loss: 0.017113\n",
      "Learning Rate For Epoch 16: 0.0116\n",
      "Epoch:16 Batch: 800 Train_Loss: 0.012664\n",
      "Epoch:16 Batch: 1600 Train_Loss: 0.013173\n",
      "Epoch:16 Batch: 200 Val_Loss: 0.0176\n",
      "Learning Rate For Epoch 17: 0.0116\n",
      "Epoch:17 Batch: 800 Train_Loss: 0.01273\n",
      "Epoch:17 Batch: 1600 Train_Loss: 0.011953\n",
      "Epoch:17 Batch: 200 Val_Loss: 0.017082\n",
      "Learning Rate For Epoch 18: 0.00754\n",
      "Epoch:18 Batch: 800 Train_Loss: 0.010396\n",
      "Epoch:18 Batch: 1600 Train_Loss: 0.010519\n",
      "Epoch:18 Batch: 200 Val_Loss: 0.01535\n",
      "Learning Rate For Epoch 19: 0.00754\n",
      "Epoch:19 Batch: 800 Train_Loss: 0.010525\n",
      "Epoch:19 Batch: 1600 Train_Loss: 0.010306\n",
      "Epoch:19 Batch: 200 Val_Loss: 0.014881\n"
     ]
    }
   ],
   "source": [
    "for i in range(20):\n",
    "    print(f\"Learning Rate For Epoch {i}: {optimizer.param_groups[0]['lr']:.3}\")\n",
    "    train(i, 800, 200)\n",
    "    scheduler.step()"
   ]
  },
  {
   "cell_type": "code",
   "execution_count": 54,
   "metadata": {
    "execution": {
     "iopub.execute_input": "2021-12-26T06:33:17.004388Z",
     "iopub.status.busy": "2021-12-26T06:33:17.003449Z",
     "iopub.status.idle": "2021-12-26T06:33:17.053547Z",
     "shell.execute_reply": "2021-12-26T06:33:17.052624Z",
     "shell.execute_reply.started": "2021-12-26T06:33:17.004343Z"
    },
    "id": "aSFwYtI8X_s_"
   },
   "outputs": [
    {
     "data": {
      "text/plain": [
       "tensor(0.0158, device='cuda:0', grad_fn=<MseLossBackward>)"
      ]
     },
     "execution_count": 54,
     "metadata": {},
     "output_type": "execute_result"
    }
   ],
   "source": [
    "criterion(res.to(device), net(inp.to(device)))"
   ]
  },
  {
   "cell_type": "code",
   "execution_count": 55,
   "metadata": {
    "execution": {
     "iopub.execute_input": "2021-12-26T06:33:20.642538Z",
     "iopub.status.busy": "2021-12-26T06:33:20.642233Z",
     "iopub.status.idle": "2021-12-26T06:33:22.096167Z",
     "shell.execute_reply": "2021-12-26T06:33:22.095454Z",
     "shell.execute_reply.started": "2021-12-26T06:33:20.642508Z"
    },
    "id": "G9p5T6dvYC8F"
   },
   "outputs": [
    {
     "data": {
      "image/png": "[encoded data removed]",
      "text/plain": [
       "<Figure size 432x288 with 1 Axes>"
      ]
     },
     "metadata": {
      "needs_background": "light"
     },
     "output_type": "display_data"
    },
    {
     "data": {
      "image/png": "[encoded data removed]",
      "text/plain": [
       "<Figure size 432x288 with 1 Axes>"
      ]
     },
     "metadata": {
      "needs_background": "light"
     },
     "output_type": "display_data"
    },
    {
     "data": {
      "image/png": "[encoded data removed]",
      "text/plain": [
       "<Figure size 432x288 with 1 Axes>"
      ]
     },
     "metadata": {
      "needs_background": "light"
     },
     "output_type": "display_data"
    },
    {
     "data": {
      "image/png": "[encoded data removed]",
      "text/plain": [
       "<Figure size 432x288 with 1 Axes>"
      ]
     },
     "metadata": {
      "needs_background": "light"
     },
     "output_type": "display_data"
    },
    {
     "data": {
      "image/png": "[encoded data removed]",
      "text/plain": [
       "<Figure size 432x288 with 1 Axes>"
      ]
     },
     "metadata": {
      "needs_background": "light"
     },
     "output_type": "display_data"
    },
    {
     "data": {
      "image/png": "[encoded data removed]",
      "text/plain": [
       "<Figure size 432x288 with 1 Axes>"
      ]
     },
     "metadata": {
      "needs_background": "light"
     },
     "output_type": "display_data"
    },
    {
     "data": {
      "image/png": "[encoded data removed]",
      "text/plain": [
       "<Figure size 432x288 with 1 Axes>"
      ]
     },
     "metadata": {
      "needs_background": "light"
     },
     "output_type": "display_data"
    },
    {
     "data": {
      "image/png": "[encoded data removed]",
      "text/plain": [
       "<Figure size 432x288 with 1 Axes>"
      ]
     },
     "metadata": {
      "needs_background": "light"
     },
     "output_type": "display_data"
    }
   ],
   "source": [
    "y = torch.tensor( net(inp.to(device)).cpu().detach().numpy() )\n",
    "plot_image(y, res)"
   ]
  },
  {
   "cell_type": "code",
   "execution_count": 56,
   "metadata": {
    "execution": {
     "iopub.execute_input": "2021-12-26T06:33:34.992510Z",
     "iopub.status.busy": "2021-12-26T06:33:34.992250Z",
     "iopub.status.idle": "2021-12-26T06:33:55.857357Z",
     "shell.execute_reply": "2021-12-26T06:33:55.856621Z",
     "shell.execute_reply.started": "2021-12-26T06:33:34.992481Z"
    }
   },
   "outputs": [
    {
     "name": "stdout",
     "output_type": "stream",
     "text": [
      "Test:  Epoch:100 Loss:0.01629\n",
      "\n"
     ]
    }
   ],
   "source": [
    "test(100)"
   ]
  },
  {
   "cell_type": "code",
   "execution_count": null,
   "metadata": {
    "execution": {
     "iopub.status.busy": "2021-12-26T05:10:47.393981Z",
     "iopub.status.idle": "2021-12-26T05:10:47.394553Z",
     "shell.execute_reply": "2021-12-26T05:10:47.394348Z",
     "shell.execute_reply.started": "2021-12-26T05:10:47.394320Z"
    }
   },
   "outputs": [],
   "source": [
    "def better_pic(input1):\n",
    "    for k in range(10):\n",
    "        min1 = np.inf\n",
    "        max1 = -1 * np.inf\n",
    "        for i in range(28):\n",
    "            for j in range(28):\n",
    "                if input1[k][0][i][j]  < min1:\n",
    "                    min1 = input1[0][0][i][j]\n",
    "                if input1[k][0][i][j]  > max1:\n",
    "                    max1 = input1[0][0][i][j]\n",
    "        mid1 = (min1 + max1)/2\n",
    "        print(mid1, min1, max1)\n",
    "        for i in range(28):\n",
    "            for j in range(28):\n",
    "                if input1[k][0][i][j]  < (mid1+min1)/2:\n",
    "                    input1[k][0][i][j] = 0\n",
    "    #             elif input1[k][0][i][j]  > (mid1+max1)/1.5:\n",
    "    #                 input1[k][0][i][j] = 1\n",
    "    return input1"
   ]
  }
 ],
 "metadata": {
  "kernelspec": {
   "display_name": "Python 3",
   "language": "python",
   "name": "python3"
  },
  "language_info": {
   "codemirror_mode": {
    "name": "ipython",
    "version": 3
   },
   "file_extension": ".py",
   "mimetype": "text/x-python",
   "name": "python",
   "nbconvert_exporter": "python",
   "pygments_lexer": "ipython3",
   "version": "3.8.5"
  }
 },
 "nbformat": 4,
 "nbformat_minor": 4
}
