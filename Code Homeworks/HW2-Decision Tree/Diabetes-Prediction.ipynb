{
 "cells": [
  {
   "cell_type": "code",
   "execution_count": 109,
   "metadata": {},
   "outputs": [
    {
     "data": {
      "text/html": [
       "<div>\n",
       "<style scoped>\n",
       "    .dataframe tbody tr th:only-of-type {\n",
       "        vertical-align: middle;\n",
       "    }\n",
       "\n",
       "    .dataframe tbody tr th {\n",
       "        vertical-align: top;\n",
       "    }\n",
       "\n",
       "    .dataframe thead th {\n",
       "        text-align: right;\n",
       "    }\n",
       "</style>\n",
       "<table border=\"1\" class=\"dataframe\">\n",
       "  <thead>\n",
       "    <tr style=\"text-align: right;\">\n",
       "      <th></th>\n",
       "      <th>Pregnancies</th>\n",
       "      <th>Glucose</th>\n",
       "      <th>BloodPressure</th>\n",
       "      <th>SkinThickness</th>\n",
       "      <th>Insulin</th>\n",
       "      <th>BMI</th>\n",
       "      <th>DiabetesPedigreeFunction</th>\n",
       "      <th>Age</th>\n",
       "      <th>Outcome</th>\n",
       "    </tr>\n",
       "  </thead>\n",
       "  <tbody>\n",
       "    <tr>\n",
       "      <th>0</th>\n",
       "      <td>6</td>\n",
       "      <td>148</td>\n",
       "      <td>72</td>\n",
       "      <td>35</td>\n",
       "      <td>0</td>\n",
       "      <td>33.6</td>\n",
       "      <td>0.627</td>\n",
       "      <td>50</td>\n",
       "      <td>1</td>\n",
       "    </tr>\n",
       "    <tr>\n",
       "      <th>1</th>\n",
       "      <td>1</td>\n",
       "      <td>85</td>\n",
       "      <td>66</td>\n",
       "      <td>29</td>\n",
       "      <td>0</td>\n",
       "      <td>26.6</td>\n",
       "      <td>0.351</td>\n",
       "      <td>31</td>\n",
       "      <td>0</td>\n",
       "    </tr>\n",
       "    <tr>\n",
       "      <th>2</th>\n",
       "      <td>8</td>\n",
       "      <td>183</td>\n",
       "      <td>64</td>\n",
       "      <td>0</td>\n",
       "      <td>0</td>\n",
       "      <td>23.3</td>\n",
       "      <td>0.672</td>\n",
       "      <td>32</td>\n",
       "      <td>1</td>\n",
       "    </tr>\n",
       "    <tr>\n",
       "      <th>3</th>\n",
       "      <td>1</td>\n",
       "      <td>89</td>\n",
       "      <td>66</td>\n",
       "      <td>23</td>\n",
       "      <td>94</td>\n",
       "      <td>28.1</td>\n",
       "      <td>0.167</td>\n",
       "      <td>21</td>\n",
       "      <td>0</td>\n",
       "    </tr>\n",
       "    <tr>\n",
       "      <th>4</th>\n",
       "      <td>0</td>\n",
       "      <td>137</td>\n",
       "      <td>40</td>\n",
       "      <td>35</td>\n",
       "      <td>168</td>\n",
       "      <td>43.1</td>\n",
       "      <td>2.288</td>\n",
       "      <td>33</td>\n",
       "      <td>1</td>\n",
       "    </tr>\n",
       "  </tbody>\n",
       "</table>\n",
       "</div>"
      ],
      "text/plain": [
       "   Pregnancies  Glucose  BloodPressure  SkinThickness  Insulin   BMI  \\\n",
       "0            6      148             72             35        0  33.6   \n",
       "1            1       85             66             29        0  26.6   \n",
       "2            8      183             64              0        0  23.3   \n",
       "3            1       89             66             23       94  28.1   \n",
       "4            0      137             40             35      168  43.1   \n",
       "\n",
       "   DiabetesPedigreeFunction  Age  Outcome  \n",
       "0                     0.627   50        1  \n",
       "1                     0.351   31        0  \n",
       "2                     0.672   32        1  \n",
       "3                     0.167   21        0  \n",
       "4                     2.288   33        1  "
      ]
     },
     "execution_count": 109,
     "metadata": {},
     "output_type": "execute_result"
    }
   ],
   "source": [
    "import os\n",
    "from scipy import optimize\n",
    "import pandas as pd\n",
    "import numpy as np\n",
    "from pandas import DataFrame\n",
    "from sklearn.model_selection import train_test_split\n",
    "from sklearn import metrics\n",
    "from sklearn.tree import DecisionTreeClassifier\n",
    "import matplotlib.pyplot as plt\n",
    "\n",
    "df = pd.read_csv('/Users/mac/Desktop/AI/IMP2_97110411/diabetes.csv',header = 0, encoding = 'ascii', engine = 'python')\n",
    "df.head()\n"
   ]
  },
  {
   "cell_type": "code",
   "execution_count": 110,
   "metadata": {},
   "outputs": [
    {
     "name": "stdout",
     "output_type": "stream",
     "text": [
      "       Pregnancies     Glucose  BloodPressure  SkinThickness     Insulin  \\\n",
      "count   768.000000  768.000000     768.000000     768.000000  768.000000   \n",
      "mean      3.845052  120.894531      69.105469      20.536458   79.799479   \n",
      "std       3.369578   31.972618      19.355807      15.952218  115.244002   \n",
      "min       0.000000    0.000000       0.000000       0.000000    0.000000   \n",
      "25%       1.000000   99.000000      62.000000       0.000000    0.000000   \n",
      "50%       3.000000  117.000000      72.000000      23.000000   30.500000   \n",
      "75%       6.000000  140.250000      80.000000      32.000000  127.250000   \n",
      "max      17.000000  199.000000     122.000000      99.000000  846.000000   \n",
      "\n",
      "              BMI  DiabetesPedigreeFunction         Age     Outcome  \n",
      "count  768.000000                768.000000  768.000000  768.000000  \n",
      "mean    31.992578                  0.471876   33.240885    0.348958  \n",
      "std      7.884160                  0.331329   11.760232    0.476951  \n",
      "min      0.000000                  0.078000   21.000000    0.000000  \n",
      "25%     27.300000                  0.243750   24.000000    0.000000  \n",
      "50%     32.000000                  0.372500   29.000000    0.000000  \n",
      "75%     36.600000                  0.626250   41.000000    1.000000  \n",
      "max     67.100000                  2.420000   81.000000    1.000000  \n"
     ]
    }
   ],
   "source": [
    "filename = '/Users/mac/Desktop/AI/IMP2_97110411/diabetes.csv'\n",
    "data = pd.read_csv(filename)\n",
    "print (data.describe())"
   ]
  },
  {
   "cell_type": "code",
   "execution_count": 111,
   "metadata": {},
   "outputs": [],
   "source": [
    "# Define the calculate entropy function\n",
    "def calculate_entropy(df_label):\n",
    "    classes,class_counts = np.unique(df_label,return_counts = True)\n",
    "    entropy_value = np.sum([(-class_counts[i]/np.sum(class_counts))*np.log2(class_counts[i]/np.sum(class_counts)) \n",
    "                        for i in range(len(classes))])\n",
    "    return entropy_value"
   ]
  },
  {
   "cell_type": "code",
   "execution_count": 112,
   "metadata": {},
   "outputs": [],
   "source": [
    "# Define the calculate information gain function\n",
    "def calculate_information_gain(dataset,feature,label): \n",
    "    # Calculate the dataset entropy\n",
    "    dataset_entropy = calculate_entropy(dataset[label])   \n",
    "    values,feat_counts= np.unique(dataset[feature],return_counts=True)\n",
    "    \n",
    "    # Calculate the weighted feature entropy                                # Call the calculate_entropy function\n",
    "    weighted_feature_entropy = np.sum([(feat_counts[i]/np.sum(feat_counts))*calculate_entropy(dataset.where(dataset[feature]\n",
    "                              ==values[i]).dropna()[label]) for i in range(len(values))])    \n",
    "    feature_info_gain = dataset_entropy - weighted_feature_entropy\n",
    "    return feature_info_gain"
   ]
  },
  {
   "cell_type": "code",
   "execution_count": 113,
   "metadata": {},
   "outputs": [
    {
     "data": {
      "text/plain": [
       "Index(['Pregnancies', 'Glucose', 'BloodPressure', 'SkinThickness', 'Insulin',\n",
       "       'BMI', 'DiabetesPedigreeFunction', 'Age'],\n",
       "      dtype='object')"
      ]
     },
     "execution_count": 113,
     "metadata": {},
     "output_type": "execute_result"
    }
   ],
   "source": [
    "features = df.columns[:-1]\n",
    "label = 'diabetes'\n",
    "parent = None\n",
    "features"
   ]
  },
  {
   "cell_type": "code",
   "execution_count": 114,
   "metadata": {},
   "outputs": [
    {
     "data": {
      "image/png": "[encoded data removed]",
      "text/plain": [
       "<Figure size 1440x1080 with 9 Axes>"
      ]
     },
     "metadata": {
      "needs_background": "light"
     },
     "output_type": "display_data"
    }
   ],
   "source": [
    "df.hist(bins = 50, figsize = (20, 15))\n",
    "plt.show()"
   ]
  },
  {
   "cell_type": "code",
   "execution_count": 115,
   "metadata": {},
   "outputs": [
    {
     "name": "stdout",
     "output_type": "stream",
     "text": [
      "The median BMI is : 32.0\n",
      "The mean BMI is : 31.992578124999977\n"
     ]
    }
   ],
   "source": [
    "median_bmi = df['BMI'].median()\n",
    "mean_bmi = df['BMI'].mean()\n",
    "print(\"The median BMI is :\",median_bmi)\n",
    "print(\"The mean BMI is :\",mean_bmi)"
   ]
  },
  {
   "cell_type": "code",
   "execution_count": 116,
   "metadata": {},
   "outputs": [
    {
     "name": "stdout",
     "output_type": "stream",
     "text": [
      "Median Blood Pressure is: 72.0\n",
      "Mean Blood Preddure is : 69.10546875\n"
     ]
    }
   ],
   "source": [
    "median_bp = df['BloodPressure'].median()\n",
    "mean_bp = df['BloodPressure'].mean()\n",
    "print('Median Blood Pressure is:',median_bp)\n",
    "print('Mean Blood Preddure is :',mean_bp)"
   ]
  },
  {
   "cell_type": "code",
   "execution_count": 117,
   "metadata": {},
   "outputs": [
    {
     "name": "stdout",
     "output_type": "stream",
     "text": [
      "Median Insulin is: 30.5\n",
      "Mean Insulin is : 79.79947916666667\n"
     ]
    }
   ],
   "source": [
    "median_insulin = df['Insulin'].median()\n",
    "mean_insulin = df['Insulin'].mean()\n",
    "print('Median Insulin is:',median_insulin)\n",
    "print('Mean Insulin is :',mean_insulin)"
   ]
  },
  {
   "cell_type": "code",
   "execution_count": 118,
   "metadata": {},
   "outputs": [
    {
     "name": "stdout",
     "output_type": "stream",
     "text": [
      "Median Skin Thickness is: 23.0\n",
      "Mean SkinThickness is : 20.536458333333332\n"
     ]
    }
   ],
   "source": [
    "median_skin = df['SkinThickness'].median()\n",
    "mean_skin = df['SkinThickness'].mean()\n",
    "print('Median Skin Thickness is:',median_skin)\n",
    "print('Mean SkinThickness is :',mean_skin)"
   ]
  },
  {
   "cell_type": "code",
   "execution_count": 119,
   "metadata": {},
   "outputs": [
    {
     "name": "stdout",
     "output_type": "stream",
     "text": [
      "Median Pregnancy is: 3.0\n",
      "Mean Pregnancy is : 3.8450520833333335\n"
     ]
    }
   ],
   "source": [
    "median_preg = df['Pregnancies'].median()\n",
    "mean_preg = df['Pregnancies'].mean()\n",
    "print('Median Pregnancy is:',median_preg)\n",
    "print('Mean Pregnancy is :',mean_preg)"
   ]
  },
  {
   "cell_type": "code",
   "execution_count": 120,
   "metadata": {},
   "outputs": [
    {
     "name": "stdout",
     "output_type": "stream",
     "text": [
      "Median Age is: 29.0\n",
      "Mean Age is : 33.240885416666664\n"
     ]
    }
   ],
   "source": [
    "median_age = df['Age'].median()\n",
    "mean_age = df['Age'].mean()\n",
    "print('Median Age is:',median_age)\n",
    "print('Mean Age is :',mean_age)"
   ]
  },
  {
   "cell_type": "code",
   "execution_count": 121,
   "metadata": {},
   "outputs": [
    {
     "name": "stdout",
     "output_type": "stream",
     "text": [
      "Median Glucose is: 117.0\n",
      "Mean Glucose is : 120.89453125\n"
     ]
    }
   ],
   "source": [
    "median_glucose = df['Glucose'].median()\n",
    "mean_glucose = df['Glucose'].mean()\n",
    "print('Median Glucose is:',median_glucose)\n",
    "print('Mean Glucose is :',mean_glucose)"
   ]
  },
  {
   "cell_type": "code",
   "execution_count": 122,
   "metadata": {},
   "outputs": [
    {
     "name": "stdout",
     "output_type": "stream",
     "text": [
      "Median DiabetesPedigreeFunction is: 0.3725\n",
      "Mean DiabetesPedigreeFunction is : 0.4718763020833327\n"
     ]
    }
   ],
   "source": [
    "median_DiabetesPedigreeFunction = df['DiabetesPedigreeFunction'].median()\n",
    "mean_DiabetesPedigreeFunction = df['DiabetesPedigreeFunction'].mean()\n",
    "print('Median DiabetesPedigreeFunction is:',median_DiabetesPedigreeFunction)\n",
    "print('Mean DiabetesPedigreeFunction is :',mean_DiabetesPedigreeFunction)"
   ]
  },
  {
   "cell_type": "code",
   "execution_count": 123,
   "metadata": {},
   "outputs": [],
   "source": [
    "df['BMI'] = df['BMI'].replace(\n",
    "    to_replace=0, value = median_bmi)\n",
    "df['DiabetesPedigreeFunction'] = df['DiabetesPedigreeFunction'].replace(\n",
    "    to_replace=0, value = median_DiabetesPedigreeFunction)\n",
    "df['Glucose'] = df['Glucose'].replace(\n",
    "    to_replace=0, value = median_glucose)\n",
    "df['Age'] = df['Age'].replace(\n",
    "    to_replace=0, value = median_age)\n",
    "df['Pregnancies'] = df['Pregnancies'].replace(\n",
    "    to_replace=0, value = median_preg)\n",
    "df['SkinThickness'] = df['SkinThickness'].replace(\n",
    "    to_replace=0, value = median_skin)\n",
    "df['Insulin'] = df['Insulin'].replace(\n",
    "    to_replace=0, value = median_insulin)\n",
    "df['BloodPressure'] = df['BloodPressure'].replace(\n",
    "    to_replace=0, value = median_bp)"
   ]
  },
  {
   "cell_type": "code",
   "execution_count": 124,
   "metadata": {},
   "outputs": [
    {
     "name": "stdout",
     "output_type": "stream",
     "text": [
      "     Pregnancies  Glucose  BloodPressure  SkinThickness  Insulin   BMI  \\\n",
      "226            3      101             76             23     30.5  35.7   \n",
      "610            3      106             54             21    158.0  30.9   \n",
      "505           10       75             82             23     30.5  33.3   \n",
      "470            1      144             82             40     30.5  41.3   \n",
      "474            4      114             64             23     30.5  28.9   \n",
      "..           ...      ...            ...            ...      ...   ...   \n",
      "508            2       84             50             23     76.0  30.4   \n",
      "382            1      109             60              8    182.0  25.4   \n",
      "26             7      147             76             23     30.5  39.4   \n",
      "502            6      117             68             41     30.5  39.0   \n",
      "676            9      156             86             23     30.5  24.8   \n",
      "\n",
      "     DiabetesPedigreeFunction  Age  Outcome  \n",
      "226                     0.198   26        0  \n",
      "610                     0.292   24        0  \n",
      "505                     0.263   38        0  \n",
      "470                     0.607   28        0  \n",
      "474                     0.126   24        0  \n",
      "..                        ...  ...      ...  \n",
      "508                     0.968   21        0  \n",
      "382                     0.947   21        0  \n",
      "26                      0.257   43        1  \n",
      "502                     0.727   41        1  \n",
      "676                     0.230   53        1  \n",
      "\n",
      "[308 rows x 9 columns]\n"
     ]
    }
   ],
   "source": [
    "train, test = train_test_split(df, test_size = 0.4, random_state=30)\n",
    "target = train[\"Outcome\"]\n",
    "feature = train[train.columns[0:8]]\n",
    "feat_names = train.columns[0:8]\n",
    "target_classes = ['0','1'] \n",
    "print(test)"
   ]
  },
  {
   "cell_type": "code",
   "execution_count": 125,
   "metadata": {},
   "outputs": [
    {
     "name": "stdout",
     "output_type": "stream",
     "text": [
      "              precision    recall  f1-score   support\n",
      "\n",
      "           0       0.80      0.82      0.81       206\n",
      "           1       0.61      0.59      0.60       102\n",
      "\n",
      "    accuracy                           0.74       308\n",
      "   macro avg       0.71      0.70      0.70       308\n",
      "weighted avg       0.74      0.74      0.74       308\n",
      "\n",
      "[[168  38]\n",
      " [ 42  60]]\n",
      "TrueDecision accuracy:  0.7402597402597403\n"
     ]
    }
   ],
   "source": [
    "from sklearn.neighbors import KNeighborsClassifier\n",
    "test_input=test[test.columns[0:8]]\n",
    "expected = test[\"Outcome\"]\n",
    "neigh = KNeighborsClassifier(n_neighbors=21)\n",
    "neigh.fit(feature,target)\n",
    "TrueDecisionpredicted = neigh.predict(test_input)\n",
    "print(metrics.classification_report(expected, TrueDecisionpredicted))\n",
    "print(metrics.confusion_matrix(expected, TrueDecisionpredicted))\n",
    "print(\"TrueDecision accuracy: \",neigh.score(test_input,expected))\n",
    "TrueDecisionscore=neigh.score(test_input,expected)"
   ]
  },
  {
   "cell_type": "code",
   "execution_count": 126,
   "metadata": {},
   "outputs": [
    {
     "ename": "ModuleNotFoundError",
     "evalue": "No module named 'graphviz'",
     "output_type": "error",
     "traceback": [
      "\u001b[0;31m---------------------------------------------------------------------------\u001b[0m",
      "\u001b[0;31mModuleNotFoundError\u001b[0m                       Traceback (most recent call last)",
      "\u001b[0;32m<ipython-input-126-19cc028553b7>\u001b[0m in \u001b[0;36m<module>\u001b[0;34m\u001b[0m\n\u001b[0;32m----> 1\u001b[0;31m \u001b[0;32mimport\u001b[0m \u001b[0mgraphviz\u001b[0m\u001b[0;34m\u001b[0m\u001b[0;34m\u001b[0m\u001b[0m\n\u001b[0m\u001b[1;32m      2\u001b[0m \u001b[0;32mimport\u001b[0m \u001b[0msix\u001b[0m\u001b[0;34m\u001b[0m\u001b[0;34m\u001b[0m\u001b[0m\n\u001b[1;32m      3\u001b[0m \u001b[0;32mimport\u001b[0m \u001b[0msys\u001b[0m\u001b[0;34m\u001b[0m\u001b[0;34m\u001b[0m\u001b[0m\n\u001b[1;32m      4\u001b[0m \u001b[0msys\u001b[0m\u001b[0;34m.\u001b[0m\u001b[0mmodules\u001b[0m\u001b[0;34m[\u001b[0m\u001b[0;34m'sklearn.externals.six'\u001b[0m\u001b[0;34m]\u001b[0m \u001b[0;34m=\u001b[0m \u001b[0msix\u001b[0m\u001b[0;34m\u001b[0m\u001b[0;34m\u001b[0m\u001b[0m\n",
      "\u001b[0;31mModuleNotFoundError\u001b[0m: No module named 'graphviz'"
     ]
    }
   ],
   "source": [
    "import graphviz\n",
    "import six\n",
    "import sys\n",
    "sys.modules['sklearn.externals.six'] = six"
   ]
  },
  {
   "cell_type": "code",
   "execution_count": null,
   "metadata": {},
   "outputs": [],
   "source": [
    "from sklearn.externals.six import StringIO  \n",
    "from IPython.display import Image  \n",
    "from sklearn.tree import export_graphviz\n",
    "import pydotplus\n",
    "\n",
    "dot_data = StringIO()\n",
    "export_graphviz(clf, out_file=dot_data,  \n",
    "                filled=True, rounded=True,\n",
    "                special_characters=True, feature_names = feature_cols,class_names=['0','1'])\n",
    "graph = pydotplus.graph_from_dot_data(dot_data.getvalue())\n",
    "print(dot_data)\n",
    "Image(graph.create_png())\n"
   ]
  }
 ],
 "metadata": {
  "kernelspec": {
   "display_name": "Python 3",
   "language": "python",
   "name": "python3"
  },
  "language_info": {
   "codemirror_mode": {
    "name": "ipython",
    "version": 3
   },
   "file_extension": ".py",
   "mimetype": "text/x-python",
   "name": "python",
   "nbconvert_exporter": "python",
   "pygments_lexer": "ipython3",
   "version": "3.8.5"
  }
 },
 "nbformat": 4,
 "nbformat_minor": 4
}
